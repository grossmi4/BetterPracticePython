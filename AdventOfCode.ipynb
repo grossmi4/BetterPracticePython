{
 "cells": [
  {
   "cell_type": "code",
   "execution_count": 1,
   "metadata": {},
   "outputs": [],
   "source": [
    "#Input for day 1\n",
    "\n",
    "moduleMass = [140170,\n",
    "75120,\n",
    "75645,\n",
    "134664,\n",
    "124948,\n",
    "137630,\n",
    "146662,\n",
    "116881,\n",
    "120030,\n",
    "94332,\n",
    "50473,\n",
    "59361,\n",
    "128237,\n",
    "84894,\n",
    "51368,\n",
    "128802,\n",
    "57275,\n",
    "129235,\n",
    "113481,\n",
    "66378,\n",
    "55842,\n",
    "90548,\n",
    "107696,\n",
    "53603,\n",
    "130458,\n",
    "80306,\n",
    "120820,\n",
    "131313,\n",
    "100303,\n",
    "59224,\n",
    "123369,\n",
    "140584,\n",
    "60642,\n",
    "68184,\n",
    "103101,\n",
    "82278,\n",
    "51968,\n",
    "51048,\n",
    "98139,\n",
    "60498,\n",
    "127082,\n",
    "71197,\n",
    "109478,\n",
    "71286,\n",
    "84840,\n",
    "141305,\n",
    "51800,\n",
    "72352,\n",
    "93147,\n",
    "73549,\n",
    "122739,\n",
    "62363,\n",
    "58453,\n",
    "59000,\n",
    "63564,\n",
    "63424,\n",
    "51053,\n",
    "120826,\n",
    "123337,\n",
    "130824,\n",
    "59053,\n",
    "77983,\n",
    "68977,\n",
    "67126,\n",
    "96051,\n",
    "53024,\n",
    "145647,\n",
    "139343,\n",
    "113236,\n",
    "59396,\n",
    "146174,\n",
    "148622,\n",
    "83384,\n",
    "86938,\n",
    "100673,\n",
    "80757,\n",
    "107675,\n",
    "147417,\n",
    "124538,\n",
    "136463,\n",
    "104609,\n",
    "149559,\n",
    "136037,\n",
    "54997,\n",
    "139674,\n",
    "101638,\n",
    "65739,\n",
    "70029,\n",
    "143847,\n",
    "122035,\n",
    "66256,\n",
    "78087,\n",
    "105045,\n",
    "108867,\n",
    "99630,\n",
    "127173,\n",
    "139021,\n",
    "139759,\n",
    "134171,\n",
    "104869]"
   ]
  },
  {
   "cell_type": "code",
   "execution_count": 2,
   "metadata": {},
   "outputs": [
    {
     "name": "stdout",
     "output_type": "stream",
     "text": [
      "total fuel:  3263320\n"
     ]
    }
   ],
   "source": [
    "#Problem day 1-1\n",
    "def fcalc(fuel):\n",
    "    requiredFuel = (int(fuel/3)-2)\n",
    "    if requiredFuel < 0:\n",
    "        requiredFuel = 0\n",
    "    return requiredFuel\n",
    "\n",
    "fuelarray = [fcalc(unit) for unit in moduleMass]\n",
    "\n",
    "#Solution for 1-1\n",
    "print('total fuel: ',sum(fuelarray))"
   ]
  },
  {
   "cell_type": "code",
   "execution_count": 3,
   "metadata": {},
   "outputs": [
    {
     "name": "stdout",
     "output_type": "stream",
     "text": [
      "new total fuel:  4892135\n"
     ]
    }
   ],
   "source": [
    "#Problem 1-2\n",
    "def fuelOnFuel(startingFuel):\n",
    "    finalFuel = startingFuel\n",
    "    newFuel = fcalc(startingFuel)\n",
    "    while newFuel > 0:\n",
    "        finalFuel = finalFuel + newFuel\n",
    "        newFuel = fcalc(newFuel)\n",
    "    return finalFuel\n",
    "\n",
    "newFuelArray = [fuelOnFuel(x) for x in fuelarray]\n",
    "\n",
    "#Solution 1-2\n",
    "print(\"new total fuel: \", sum(newFuelArray))\n"
   ]
  },
  {
   "cell_type": "code",
   "execution_count": 4,
   "metadata": {},
   "outputs": [],
   "source": [
    "# Input for Day 2\n",
    "startingCode = [1,0,0,3,1,1,2,3,1,3,4,3,1,5,0,3,2,13,1,19,1,10,19,23,1,6,23,27,1,5,27,31,1,10,31,35,2,10,35,39,1,39,5,43,2,43,6,47,2,9,47,51,1,51,5,55,1,5,55,59,2,10,59,63,1,5,63,67,1,67,10,71,2,6,71,75,2,6,75,79,1,5,79,83,2,6,83,87,2,13,87,91,1,91,6,95,2,13,95,99,1,99,5,103,2,103,10,107,1,9,107,111,1,111,6,115,1,115,2,119,1,119,10,0,99,2,14,0,0]\n",
    "modCode = startingCode\n",
    "modCode[1] = 12\n",
    "modCode[2] = 2"
   ]
  },
  {
   "cell_type": "code",
   "execution_count": 5,
   "metadata": {},
   "outputs": [
    {
     "name": "stdout",
     "output_type": "stream",
     "text": [
      "final first position:  5482655\n"
     ]
    }
   ],
   "source": [
    "#Problem 2-1\n",
    "def codeHandler(instruction, intcode):\n",
    "    opcode = instruction[0]\n",
    "    if opcode == 1:\n",
    "        intcode[instruction[3]] = (intcode[instruction[1]] + intcode[instruction[2]])\n",
    "    elif opcode == 2:\n",
    "        intcode[instruction[3]] = (intcode[instruction[1]] * intcode[instruction[2]])\n",
    "    return intcode\n",
    "\n",
    "finalCode = modCode\n",
    "\n",
    "for i in range(len(startingCode)):\n",
    "    if i % 4 == 0:\n",
    "        if finalCode[i] == 99:\n",
    "            #prints solution to 2-1\n",
    "            print(\"final first position: \",finalCode[0])\n",
    "        else:\n",
    "            finalCode = codeHandler(finalCode[i:i+4],finalCode)\n",
    "    "
   ]
  },
  {
   "cell_type": "code",
   "execution_count": null,
   "metadata": {},
   "outputs": [],
   "source": []
  }
 ],
 "metadata": {
  "kernelspec": {
   "display_name": "Python 3",
   "language": "python",
   "name": "python3"
  },
  "language_info": {
   "codemirror_mode": {
    "name": "ipython",
    "version": 3
   },
   "file_extension": ".py",
   "mimetype": "text/x-python",
   "name": "python",
   "nbconvert_exporter": "python",
   "pygments_lexer": "ipython3",
   "version": "3.7.4"
  }
 },
 "nbformat": 4,
 "nbformat_minor": 2
}
